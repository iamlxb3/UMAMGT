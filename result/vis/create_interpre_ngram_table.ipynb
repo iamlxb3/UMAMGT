{
 "cells": [
  {
   "cell_type": "code",
   "execution_count": 33,
   "id": "0afe664e-c863-4bb8-b12f-c967f81132da",
   "metadata": {},
   "outputs": [
    {
     "name": "stdout",
     "output_type": "stream",
     "text": [
      "\\begin{tabular}{llr}\n",
      "\\toprule\n",
      "                             ngram-6-pos & score &  Total tf \\\\\n",
      "\\midrule\n",
      "            the New York Review of Books &  2.34 &         3 \\\\\n",
      "             into H arts field - Jackson &  1.97 &         1 \\\\\n",
      "                Turkish city of Hat ay . &  1.93 &         1 \\\\\n",
      "             heading into H arts field - &  1.92 &         1 \\\\\n",
      " The Associated Press first reported ... &  1.89 &         1 \\\\\n",
      " for the upcoming World Architecture ... &  1.89 &         1 \\\\\n",
      " Associated Press first reported tha ... &  1.89 &         1 \\\\\n",
      "              the Turkish city of Hat ay &  1.88 &         1 \\\\\n",
      " Regional Government adviser Naz and ... &  1.87 &         1 \\\\\n",
      "              Data from NASA 's Cass ini &  1.86 &         1 \\\\\n",
      " research by the Committee to Protec ... &  1.81 &         1 \\\\\n",
      "             Images of Lif sch itz taken &  1.81 &         1 \\\\\n",
      "                   Soup arn o Ban er jee &  1.80 &         1 \\\\\n",
      " at Frankfurt Motor Show in Septembe ... &  1.80 &         1 \\\\\n",
      " the upcoming World Architecture Awa ... &  1.79 &         1 \\\\\n",
      "       the World Health Organization . \" &  1.79 &         1 \\\\\n",
      "                   ored by It Can Wait , &  1.79 &         1 \\\\\n",
      "     the Lebanese National News Agency , &  1.79 &         1 \\\\\n",
      " upcoming World Architecture Awards  ... &  1.78 &         1 \\\\\n",
      " . The Associated Press first report ... &  1.77 &         1 \\\\\n",
      "\\bottomrule\n",
      "\\end{tabular}\n",
      "\n"
     ]
    }
   ],
   "source": [
    "import pandas as pd\n",
    "import pdb\n",
    "import os\n",
    "\n",
    "def shorten_text(x, max_len=35):\n",
    "    if len(x) > max_len:\n",
    "        x = x[:max_len] + ' ...'\n",
    "    return x\n",
    "\n",
    "\n",
    "ngram = 6\n",
    "label = 'pos'\n",
    "target = 'interpret_en_grover_en_roberta_debug_0_text_len_256_debug_N_10000_use_all_zero_bs'\n",
    "path = os.path.join('../result/interpret/ngram', target, f'ngram-{ngram}_{label}_attr.csv')\n",
    "df = pd.read_csv(path)[:20]\n",
    "df = df.rename(columns={'token': f'ngram-{ngram}-{label}', 'attr_score': 'score', 'avg_tf': 'Avg.tf', 'total_tf': 'Total tf'})\n",
    "df['score'] = df['score'].apply(lambda x: f'{x:.2f}')\n",
    "df[f'ngram-{ngram}-{label}'] = df[f'ngram-{ngram}-{label}'].apply(shorten_text)\n",
    "df = df[[f'ngram-{ngram}-{label}', 'score', 'Total tf']]\n",
    "# print(df)\n",
    "print(df.to_latex(index=False))\n"
   ]
  }
 ],
 "metadata": {
  "kernelspec": {
   "display_name": "Python 3",
   "language": "python",
   "name": "python3"
  },
  "language_info": {
   "codemirror_mode": {
    "name": "ipython",
    "version": 3
   },
   "file_extension": ".py",
   "mimetype": "text/x-python",
   "name": "python",
   "nbconvert_exporter": "python",
   "pygments_lexer": "ipython3",
   "version": "3.6.8"
  }
 },
 "nbformat": 4,
 "nbformat_minor": 5
}
